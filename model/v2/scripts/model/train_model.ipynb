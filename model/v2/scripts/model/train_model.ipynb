{
 "cells": [
  {
   "cell_type": "code",
   "execution_count": 1,
   "metadata": {},
   "outputs": [],
   "source": [
    "vars = {}\n",
    "vars[\"config\"] = \"../../model/config/config.cfg\"\n",
    "vars[\"train_file\"] = \"../../model/data/train.spacy\"\n",
    "vars[\"dev_file\"] = \"../../model/data/dev.spacy\"\n",
    "vars[\"component_registry\"] = \"../../model/components/component_registry.py\"\n",
    "vars[\"training_path\"] = \"../../model/training\""
   ]
  },
  {
   "cell_type": "code",
   "execution_count": 2,
   "metadata": {},
   "outputs": [
    {
     "name": "stdout",
     "output_type": "stream",
     "text": [
      "\u001b[38;5;4mℹ Saving to output directory: ..\\..\\model\\training\u001b[0m\n",
      "\u001b[38;5;4mℹ Using GPU: 0\u001b[0m\n",
      "\u001b[1m\n",
      "=========================== Initializing pipeline ===========================\u001b[0m\n",
      "\u001b[38;5;2m✔ Initialized pipeline\u001b[0m\n",
      "\u001b[1m\n",
      "============================= Training pipeline =============================\u001b[0m\n",
      "\u001b[38;5;4mℹ Pipeline: ['transformer', 'ner', 'relation_extractor']\u001b[0m\n",
      "\u001b[38;5;4mℹ Initial learn rate: 0.0\u001b[0m\n",
      "E    #       LOSS TRANS...  LOSS NER  LOSS RELAT...  ENTS_F  ENTS_P  ENTS_R  SCORE \n",
      "---  ------  -------------  --------  -------------  ------  ------  ------  ------\n",
      "  0       0         279.98    331.30           0.84   77.30   63.00  100.00    0.77\n",
      " 33     200       27084.15  45057.67          91.83   97.32   94.78  100.00    0.97\n",
      " 66     400         217.12   9178.66          10.99   96.00   92.32  100.00    0.96\n",
      "100     600         110.02   8597.80           9.80   96.66   93.53  100.00    0.97\n",
      "133     800          17.81   8218.01           9.01   96.28   92.82  100.00    0.96\n",
      "166    1000         562.00   7966.49           8.80   96.82   93.84  100.00    0.97\n",
      "200    1200          35.79   7380.88           8.64   96.93   94.05  100.00    0.97\n",
      "233    1400          13.75   6971.55           8.40   97.71   95.52  100.00    0.98\n",
      "266    1600          17.61   6474.52           8.39   97.26   94.67  100.00    0.97\n",
      "300    1800          38.54   5961.08           8.31   98.10   96.28  100.00    0.98\n",
      "333    2000         145.19   5516.53           8.39   97.82   95.74  100.00    0.98\n",
      "366    2200         100.88   4872.35           8.32   98.10   96.28  100.00    0.98\n",
      "400    2400        3314.53   4958.89           8.35   95.63   91.62  100.00    0.96\n",
      "433    2600          71.75   3715.80           8.33   97.10   94.36  100.00    0.97\n",
      "466    2800           5.07   3019.96           8.21   97.49   95.09  100.00    0.97\n",
      "500    3000          45.01   2429.13           8.16   97.54   95.20  100.00    0.98\n",
      "533    3200          62.81   1898.74           8.10   97.49   95.09  100.00    0.97\n",
      "566    3400          77.29   1394.05           8.07   96.11   92.52  100.00    0.96\n",
      "\u001b[38;5;2m✔ Saved pipeline to output directory\u001b[0m\n",
      "..\\..\\model\\training\\model-last\n"
     ]
    }
   ],
   "source": [
    "!python -m spacy train {vars[\"config\"]} --output {vars[\"training_path\"]} --paths.train {vars[\"train_file\"]} --paths.dev {vars[\"dev_file\"]} --gpu-id 0 --code {vars[\"component_registry\"]}"
   ]
  }
 ],
 "metadata": {
  "kernelspec": {
   "display_name": "base",
   "language": "python",
   "name": "python3"
  },
  "language_info": {
   "codemirror_mode": {
    "name": "ipython",
    "version": 3
   },
   "file_extension": ".py",
   "mimetype": "text/x-python",
   "name": "python",
   "nbconvert_exporter": "python",
   "pygments_lexer": "ipython3",
   "version": "3.11.5"
  }
 },
 "nbformat": 4,
 "nbformat_minor": 2
}
