{
 "cells": [
  {
   "cell_type": "markdown",
   "metadata": {},
   "source": [
    "Format data from Doccano jsonl to Prodigy-like jsonl:"
   ]
  },
  {
   "cell_type": "code",
   "execution_count": 45,
   "metadata": {},
   "outputs": [],
   "source": [
    "!python \"../data_processing/prepare/prepare_for_parser.py\" \"../../data/mapped.jsonl\" \"../../data/prepared.jsonl\""
   ]
  },
  {
   "cell_type": "markdown",
   "metadata": {},
   "source": [
    "Parse data from jsonl to .spacy train/test files:"
   ]
  },
  {
   "cell_type": "code",
   "execution_count": 56,
   "metadata": {},
   "outputs": [
    {
     "name": "stdout",
     "output_type": "stream",
     "text": [
      "\u001b[38;5;4mℹ 51 training sentences, 802/802 pos instances.\u001b[0m\n",
      "\u001b[38;5;4mℹ 21 dev sentences, 370/370 pos instances.\u001b[0m\n",
      "\u001b[38;5;4mℹ 8 test sentences, 124/124 pos instances.\u001b[0m\n"
     ]
    }
   ],
   "source": [
    "!python \"../data_processing/parser/parse_data.py\" \"../../data/prepared.jsonl\" \"../../model/data/train.spacy\" \"../../model/data/dev.spacy\" \"../../model/data/test.spacy\""
   ]
  }
 ],
 "metadata": {
  "kernelspec": {
   "display_name": "base",
   "language": "python",
   "name": "python3"
  },
  "language_info": {
   "codemirror_mode": {
    "name": "ipython",
    "version": 3
   },
   "file_extension": ".py",
   "mimetype": "text/x-python",
   "name": "python",
   "nbconvert_exporter": "python",
   "pygments_lexer": "ipython3",
   "version": "3.11.5"
  }
 },
 "nbformat": 4,
 "nbformat_minor": 2
}
