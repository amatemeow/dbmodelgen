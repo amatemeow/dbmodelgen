version https://git-lfs.github.com/spec/v1
oid sha256:56a11a96adf8e60d3bb356f476a8d560e47343b7473f144268d9b5a06d31bd5f
size 77922
